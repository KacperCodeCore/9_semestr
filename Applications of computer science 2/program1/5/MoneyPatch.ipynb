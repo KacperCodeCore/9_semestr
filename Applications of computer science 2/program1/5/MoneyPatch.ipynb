{
 "cells": [
  {
   "cell_type": "code",
   "execution_count": 3084,
   "metadata": {},
   "outputs": [
    {
     "name": "stdout",
     "output_type": "stream",
     "text": [
      "i: 8, divisionPoints: 21.0  a: 2.256126702122424e+16\n",
      "i: 16, divisionPoints: 34  a: 623752676469141.1\n",
      "end game  chance:0 i:33\n",
      "startAccount:     4200235881610895255\n",
      "accountRemaining: 100523292359694.75\n",
      "accountRemaining%: 0.002393277310919537 %\n",
      "accountTaken%:     99.99760672268908 %\n"
     ]
    }
   ],
   "source": [
    "# import random\n",
    "import secrets\n",
    "\n",
    "a\n",
    "x = 0.12\n",
    "n = 50\n",
    "chance = 3\n",
    "start_account\n",
    "account\n",
    "\n",
    "\n",
    "max_int64 = 2**63 - 1\n",
    "# start_account = random.randint(0, max_int64)\n",
    "start_account = secrets.randbelow(max_int64)\n",
    "# start_account = 2127\n",
    "accountRemaining = start_account\n",
    "a = round(start_account*x)\n",
    "\n",
    "\n",
    "for i in range(n):\n",
    "    if a < accountRemaining:\n",
    "        accountRemaining -= a\n",
    "    else:\n",
    "        chance -=1\n",
    "        if chance == 0:\n",
    "            break\n",
    "        elif chance == 1:\n",
    "            r = (50-i)\n",
    "            a = round(a/r)\n",
    "        elif chance == 2:\n",
    "            r = (50-i)/2\n",
    "            a = round(a/r)\n",
    "\n",
    "        a *= 0.94\n",
    "        print(f\"i: {i}, divisionPoints: {r}  a: {a}\")\n",
    "        \n",
    "\n",
    "\n",
    "print(f\"end game  chance:{chance} i:{i}\")\n",
    "print(f\"startAccount:     {start_account}\")\n",
    "print(f\"accountRemaining: {accountRemaining}\")\n",
    "print(f\"accountRemaining%: {accountRemaining/start_account*100} %\")\n",
    "print(f\"accountTaken%:     {(start_account - accountRemaining)/start_account*100} %\")"
   ]
  }
 ],
 "metadata": {
  "kernelspec": {
   "display_name": ".venv",
   "language": "python",
   "name": "python3"
  },
  "language_info": {
   "codemirror_mode": {
    "name": "ipython",
    "version": 3
   },
   "file_extension": ".py",
   "mimetype": "text/x-python",
   "name": "python",
   "nbconvert_exporter": "python",
   "pygments_lexer": "ipython3",
   "version": "3.13.0"
  }
 },
 "nbformat": 4,
 "nbformat_minor": 2
}
