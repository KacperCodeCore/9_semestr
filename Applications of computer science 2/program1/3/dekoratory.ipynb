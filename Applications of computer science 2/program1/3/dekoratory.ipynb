{
 "cells": [
  {
   "cell_type": "code",
   "execution_count": 3,
   "metadata": {},
   "outputs": [
    {
     "ename": "_IncompleteInputError",
     "evalue": "incomplete input (569874629.py, line 28)",
     "output_type": "error",
     "traceback": [
      "\u001b[1;36m  Cell \u001b[1;32mIn[3], line 28\u001b[1;36m\u001b[0m\n\u001b[1;33m    # print(fib(10,10))\u001b[0m\n\u001b[1;37m                       ^\u001b[0m\n\u001b[1;31m_IncompleteInputError\u001b[0m\u001b[1;31m:\u001b[0m incomplete input\n"
     ]
    }
   ],
   "source": [
    "import sys\n",
    "sys.setrecursionlimit(1500)\n",
    "\n",
    "\n",
    "def cache(func):\n",
    "    mem = {}\n",
    "    def inner(*args):\n",
    "        if args in mem:\n",
    "            print(args)\n",
    "            return mem[args]\n",
    "        else: print(args)\n",
    " \n",
    "        result = func(*args)\n",
    "        mem[args] = result\n",
    "        return result\n",
    "    return inner\n",
    "\n",
    "@cache\n",
    "def fib(n,m):\n",
    "    if n < 1:\n",
    "        return 0\n",
    "     \n",
    "    if n == 1:\n",
    "        return 1\n",
    "     \n",
    "    return fib(n - 1,m-1) + fib(n - 2,m-2)\n",
    "\n",
    "print(fib(10,10))"
   ]
  }
 ],
 "metadata": {
  "kernelspec": {
   "display_name": ".venv",
   "language": "python",
   "name": "python3"
  },
  "language_info": {
   "codemirror_mode": {
    "name": "ipython",
    "version": 3
   },
   "file_extension": ".py",
   "mimetype": "text/x-python",
   "name": "python",
   "nbconvert_exporter": "python",
   "pygments_lexer": "ipython3",
   "version": "3.13.0"
  }
 },
 "nbformat": 4,
 "nbformat_minor": 2
}
