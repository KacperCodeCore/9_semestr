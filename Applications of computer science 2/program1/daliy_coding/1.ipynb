{
 "cells": [
  {
   "cell_type": "markdown",
   "metadata": {},
   "source": [
    "This problem was asked by Two Sigma.\n",
    "A knight is placed on a given square on an 8 x 8 chessboard. It is then moved randomly several times, where each move is a standard knight move. If the knight jumps off the board at any point, however, it is not allowed to jump back on.\n",
    "After k moves, what is the probability that the knight remains on the board?"
   ]
  },
  {
   "cell_type": "code",
   "execution_count": null,
   "metadata": {},
   "outputs": [
    {
     "name": "stdout",
     "output_type": "stream",
     "text": [
      "0.1875\n"
     ]
    }
   ],
   "source": [
    "# made with help of ai\n",
    "def knightProbability(startRow, startColumn, k):\n",
    "    \n",
    "    if not(0 <= startRow < 8 and 0 <= startColumn < 8):\n",
    "        return 0 # initial starting point is out of the board\n",
    "    \n",
    "    moves = [(2, 1), (1, 2), (-1, 2), (-2, 1), (-2, -1), (-1, -2), (1, -2), (2, -1)]\n",
    "    \n",
    "    def isValid (row, col):\n",
    "        return 0.0 <= row < 8 and 0 <= col < 8\n",
    "     \n",
    "    def solve(row, col, remaining_moves, memory):\n",
    "        if not isValid(row, col):\n",
    "            return 0.0 # out of board\n",
    "        \n",
    "        if remaining_moves == 0:\n",
    "            return 1.0 # reached the end of the path\n",
    "        \n",
    "        if (row, col, remaining_moves) in memory:\n",
    "            return memory[(row, col, remaining_moves)]\n",
    "        \n",
    "        probability = 0.0\n",
    "        for dr, dc in moves:\n",
    "            probability += 0.125 * solve(row + dr, col + dc, remaining_moves - 1, memory)\n",
    "            \n",
    "        memory[(row, col, remaining_moves)] = probability\n",
    "        return probability\n",
    "    \n",
    "    memo = {}\n",
    "    return solve(startRow, startColumn, k, memo)"
   ]
  },
  {
   "cell_type": "code",
   "execution_count": 36,
   "metadata": {},
   "outputs": [
    {
     "name": "stdout",
     "output_type": "stream",
     "text": [
      "0.125\n"
     ]
    }
   ],
   "source": [
    " \n",
    "print(knightProbability(0, 0, 3))"
   ]
  }
 ],
 "metadata": {
  "kernelspec": {
   "display_name": ".venv",
   "language": "python",
   "name": "python3"
  },
  "language_info": {
   "codemirror_mode": {
    "name": "ipython",
    "version": 3
   },
   "file_extension": ".py",
   "mimetype": "text/x-python",
   "name": "python",
   "nbconvert_exporter": "python",
   "pygments_lexer": "ipython3",
   "version": "3.13.0"
  },
  "metadata": {
   "interpreter": {
    "hash": "22b0ec00cd9e253c751e6d2619fc0bb2d18ed12980de3246690d5be49479dd65"
   }
  },
  "nav_menu": {},
  "toc": {
   "navigate_menu": true,
   "number_sections": true,
   "sideBar": true,
   "threshold": 6,
   "toc_cell": false,
   "toc_section_display": "block",
   "toc_window_display": true
  },
  "toc_position": {
   "height": "616px",
   "left": "0px",
   "right": "20px",
   "top": "106px",
   "width": "213px"
  }
 },
 "nbformat": 4,
 "nbformat_minor": 4
}
