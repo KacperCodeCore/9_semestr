{
 "cells": [
  {
   "cell_type": "markdown",
   "metadata": {},
   "source": [
    "Good morning! Here's your coding interview problem for today.\n",
    "\n",
    "This problem was asked by Sumo Logic.\n",
    "\n",
    "Given a array that's sorted but rotated at some unknown pivot, in which all elements are distinct, find a \"peak\" element in O(log N) time.\n",
    "\n",
    "An element is considered a peak if it is greater than both its left and right neighbors. It is guaranteed that the first and last elements are lower than all others."
   ]
  },
  {
   "cell_type": "code",
   "execution_count": null,
   "metadata": {},
   "outputs": [
    {
     "name": "stdout",
     "output_type": "stream",
     "text": [
      "[3, 4, 5, 7, 9, 10, 15, 15]\n"
     ]
    }
   ],
   "source": [
    "# ai generated\n",
    "import random\n",
    "\n",
    "def generate_ascending_to_pivot(length):\n",
    "    \"\"\"\n",
    "    Generates an array of unique numbers, ascending to a pivot and then descending.\n",
    "\n",
    "    Args:\n",
    "        length: The length of the array.\n",
    "\n",
    "    Returns:\n",
    "        A list of unique integers, ascending to a pivot and descending.\n",
    "    \"\"\"\n",
    "    if length <= 0:\n",
    "        return []\n",
    "\n",
    "    numbers = random.sample(range(1, length * 2), length)  # Ensure unique numbers\n",
    "    pivot_index = random.randint(0, length - 1)\n",
    "    pivot_value = max(numbers)\n",
    "\n",
    "    result = []\n",
    "    ascending_part = sorted(numbers[:pivot_index])\n",
    "    descending_part = sorted(numbers[pivot_index + 1:], reverse=True)\n",
    "\n",
    "    result.extend(ascending_part)\n",
    "    result.append(pivot_value)\n",
    "    result.extend(descending_part)\n",
    "\n",
    "    return result\n",
    "\n",
    "# Example usage:\n",
    "array_length = 8\n",
    "ascending_to_pivot_array = generate_ascending_to_pivot(array_length)\n",
    "print(ascending_to_pivot_array)"
   ]
  },
  {
   "cell_type": "code",
   "execution_count": 55,
   "metadata": {},
   "outputs": [
    {
     "name": "stdout",
     "output_type": "stream",
     "text": [
      "12\n"
     ]
    }
   ],
   "source": [
    "def findPivot(_array):\n",
    "    if len(_array) == 1:\n",
    "        return _array[0]\n",
    "    \n",
    "    left, right = 0, len(_array)\n",
    "    mid = (left + right) // 2\n",
    "    if _array[mid-1] > _array[mid]:\n",
    "        return findPivot(_array[:mid])\n",
    "    else:\n",
    "        return findPivot(_array[mid:])\n",
    "\n",
    "\n",
    "print(findPivot(ascending_to_pivot_array))\n"
   ]
  },
  {
   "cell_type": "code",
   "execution_count": 47,
   "metadata": {},
   "outputs": [
    {
     "name": "stdout",
     "output_type": "stream",
     "text": [
      "2\n",
      "[3, 4]\n",
      "[1, 2]\n"
     ]
    }
   ],
   "source": [
    "myArray = [1,2,3,4]\n",
    "left, right = 0, len(myArray)\n",
    "mid = (left + right) // 2\n",
    "print(mid)\n",
    "print(myArray[mid:])\n",
    "print(myArray[:mid])\n"
   ]
  }
 ],
 "metadata": {
  "kernelspec": {
   "display_name": ".venv",
   "language": "python",
   "name": "python3"
  },
  "language_info": {
   "codemirror_mode": {
    "name": "ipython",
    "version": 3
   },
   "file_extension": ".py",
   "mimetype": "text/x-python",
   "name": "python",
   "nbconvert_exporter": "python",
   "pygments_lexer": "ipython3",
   "version": "3.13.1"
  },
  "metadata": {
   "interpreter": {
    "hash": "22b0ec00cd9e253c751e6d2619fc0bb2d18ed12980de3246690d5be49479dd65"
   }
  },
  "nav_menu": {},
  "toc": {
   "navigate_menu": true,
   "number_sections": true,
   "sideBar": true,
   "threshold": 6,
   "toc_cell": false,
   "toc_section_display": "block",
   "toc_window_display": true
  },
  "toc_position": {
   "height": "616px",
   "left": "0px",
   "right": "20px",
   "top": "106px",
   "width": "213px"
  }
 },
 "nbformat": 4,
 "nbformat_minor": 4
}
