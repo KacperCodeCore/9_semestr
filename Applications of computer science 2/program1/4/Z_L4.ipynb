{
 "cells": [
  {
   "cell_type": "markdown",
   "metadata": {},
   "source": [
    " 1. Try to build a classifier for the MNIST dataset that achieves over 97%\n",
    " accuracy on the test set. Hint: the KNeighborsClassifier works quite\n",
    " well for this task; you just need to find good hyperparameter values (try\n",
    " a grid search on the weights and n_neighbors hyperparameters)"
   ]
  },
  {
   "cell_type": "code",
   "execution_count": 5,
   "metadata": {},
   "outputs": [],
   "source": [
    "import numpy as np\n",
    "import matplotlib.pyplot as plt\n",
    "from sklearn.datasets import fetch_openml\n",
    "from sklearn.model_selection import train_test_split, GridSearchCV\n",
    "from sklearn.neighbors import KNeighborsClassifier\n",
    "from sklearn.metrics import accuracy_score"
   ]
  },
  {
   "cell_type": "code",
   "execution_count": 6,
   "metadata": {},
   "outputs": [],
   "source": [
    "# load the MNIST dataset\n",
    "mnist = fetch_openml('mnist_784', version=1, as_frame=False) #28x28\n",
    "X, y = mnist[\"data\"], mnist[\"target\"] #data picture target number\n",
    "\n",
    "# convert labels to integers\n",
    "y = y.astype(np.uint8)\n",
    "\n",
    "# split into train and test sets\n",
    "X_train, X_test, y_train, y_test = train_test_split(X, y, test_size=0.2, random_state=42)"
   ]
  },
  {
   "cell_type": "code",
   "execution_count": 8,
   "metadata": {},
   "outputs": [
    {
     "name": "stdout",
     "output_type": "stream",
     "text": [
      "Baseline Accuracy: 97.01%\n"
     ]
    }
   ],
   "source": [
    "# baseline KNN classifier\n",
    "knn_clf = KNeighborsClassifier() # default n_neighbors=5, weights='uniform'\n",
    "knn_clf.fit(X_train, y_train) # train the classifier\n",
    "baseline_accuracy = knn_clf.score(X_test, y_test)\n",
    "print(f\"Baseline Accuracy: {baseline_accuracy * 100:.2f}%\")  # expected ~96"
   ]
  },
  {
   "cell_type": "code",
   "execution_count": 9,
   "metadata": {},
   "outputs": [
    {
     "name": "stdout",
     "output_type": "stream",
     "text": [
      "Best parameters found:  {'n_neighbors': 4, 'weights': 'distance'}\n",
      "Best cross-validation score: 94.83%\n"
     ]
    }
   ],
   "source": [
    "# define the hyperparameter grid\n",
    "param_grid = [{'weights': [\"uniform\", \"distance\"], 'n_neighbors': [3, 4, 5, 6]}]\n",
    "\n",
    "# perform grid search with cross-validation on 10,000 training samples\n",
    "knn_clf = KNeighborsClassifier()\n",
    "grid_search = GridSearchCV(knn_clf, param_grid, cv=5) #cv=5 → 5-fold cross-validation (data split into 5 parts, model learned 5 times on different subsets\n",
    "grid_search.fit(X_train[:10_000], y_train[:10_000])\n",
    "\n",
    "# show best hyperparameters\n",
    "print(\"Best parameters found: \", grid_search.best_params_)\n",
    "print(f\"Best cross-validation score: {grid_search.best_score_ * 100:.2f}%\")  # worst because treaning on small part"
   ]
  }
 ],
 "metadata": {
  "kernelspec": {
   "display_name": ".venv",
   "language": "python",
   "name": "python3"
  },
  "language_info": {
   "codemirror_mode": {
    "name": "ipython",
    "version": 3
   },
   "file_extension": ".py",
   "mimetype": "text/x-python",
   "name": "python",
   "nbconvert_exporter": "python",
   "pygments_lexer": "ipython3",
   "version": "3.13.0"
  }
 },
 "nbformat": 4,
 "nbformat_minor": 2
}
