{
 "cells": [
  {
   "cell_type": "code",
   "execution_count": 6,
   "metadata": {},
   "outputs": [],
   "source": [
    "import itertools\n",
    "import random"
   ]
  },
  {
   "cell_type": "markdown",
   "metadata": {},
   "source": [
    "#########################################################################################################\n",
    "#####   ITERATORY W JĘZYKU PYTHON -- YIELD                                                          #####\n",
    "#########################################################################################################\n",
    "\n",
    "#########################################################################################################\n",
    "#####   Różnica między YIELD i RETURN, generator                                                    #####\n",
    "#########################################################################################################"
   ]
  },
  {
   "cell_type": "code",
   "execution_count": 1,
   "metadata": {
    "notebookRunGroups": {
     "groupValue": "1"
    }
   },
   "outputs": [
    {
     "name": "stdout",
     "output_type": "stream",
     "text": [
      "<generator object uzyjYieldJakReturn at 0x0000012DABE08460>\n",
      "Czy yield zachowa się podobnie do return?\n"
     ]
    }
   ],
   "source": [
    "def uzyjYieldJakReturn():\n",
    "  yield \"Czy yield zachowa się podobnie do return?\"\n",
    "\n",
    "output = uzyjYieldJakReturn()\n",
    "print(output)\n",
    "\n",
    "for i in output:\n",
    "    print(i)\n",
    "\n",
    "\n"
   ]
  },
  {
   "cell_type": "code",
   "execution_count": 3,
   "metadata": {},
   "outputs": [
    {
     "name": "stdout",
     "output_type": "stream",
     "text": [
      "ROROWERR"
     ]
    }
   ],
   "source": [
    "def generator():\n",
    "    yield \"R\"\n",
    "    yield \"O\"\n",
    "    yield \"W\"\n",
    "    yield \"E\"\n",
    "    yield \"R\"\n",
    "\n",
    "test = generator()\n",
    "print(next(test),end=\"\")\n",
    "print(next(test),end=\"\")\n",
    "\n",
    "test = generator()\n",
    "print(next(test),end=\"\")\n",
    "for i in test:\n",
    "    print(i,end=\"\")\n",
    "\n",
    "test = generator()\n",
    "print(next(test),end=\"\")"
   ]
  },
  {
   "cell_type": "markdown",
   "metadata": {},
   "source": [
    "#########################################################################################################\n",
    "#####   Wyciągnij kolejną liczbę z losowej pozycji listy bez zwracania                              #####\n",
    "#########################################################################################################"
   ]
  },
  {
   "cell_type": "code",
   "execution_count": 4,
   "metadata": {},
   "outputs": [
    {
     "ename": "NameError",
     "evalue": "name 'random' is not defined",
     "output_type": "error",
     "traceback": [
      "\u001b[1;31m---------------------------------------------------------------------------\u001b[0m",
      "\u001b[1;31mNameError\u001b[0m                                 Traceback (most recent call last)",
      "Cell \u001b[1;32mIn[4], line 10\u001b[0m\n\u001b[0;32m      7\u001b[0m krotkaLista \u001b[38;5;241m=\u001b[39m [\u001b[38;5;241m18\u001b[39m,\u001b[38;5;241m44\u001b[39m,\u001b[38;5;241m55\u001b[39m,\u001b[38;5;241m79\u001b[39m,\u001b[38;5;241m99\u001b[39m,\u001b[38;5;241m66\u001b[39m]\n\u001b[0;32m      8\u001b[0m GeneratorElementowLosowych \u001b[38;5;241m=\u001b[39m podajKolejnyElementLosowyZListy(krotkaLista)\n\u001b[1;32m---> 10\u001b[0m \u001b[38;5;28;43;01mfor\u001b[39;49;00m\u001b[43m \u001b[49m\u001b[43mi\u001b[49m\u001b[43m \u001b[49m\u001b[38;5;129;43;01min\u001b[39;49;00m\u001b[43m \u001b[49m\u001b[43mGeneratorElementowLosowych\u001b[49m\u001b[43m:\u001b[49m\n\u001b[0;32m     11\u001b[0m \u001b[43m    \u001b[49m\u001b[38;5;28;43mprint\u001b[39;49m\u001b[43m(\u001b[49m\u001b[43mi\u001b[49m\u001b[43m,\u001b[49m\u001b[43m \u001b[49m\u001b[43mend\u001b[49m\u001b[38;5;241;43m=\u001b[39;49m\u001b[38;5;124;43m\"\u001b[39;49m\u001b[38;5;124;43m  \u001b[39;49m\u001b[38;5;124;43m\"\u001b[39;49m\u001b[43m)\u001b[49m\n\u001b[0;32m     13\u001b[0m \u001b[38;5;28mprint\u001b[39m(krotkaLista)\n",
      "Cell \u001b[1;32mIn[4], line 3\u001b[0m, in \u001b[0;36mpodajKolejnyElementLosowyZListy\u001b[1;34m(lista)\u001b[0m\n\u001b[0;32m      1\u001b[0m \u001b[38;5;28;01mdef\u001b[39;00m \u001b[38;5;21mpodajKolejnyElementLosowyZListy\u001b[39m(lista):\n\u001b[0;32m      2\u001b[0m     \u001b[38;5;28;01mwhile\u001b[39;00m \u001b[38;5;28mlen\u001b[39m(lista) \u001b[38;5;241m>\u001b[39m \u001b[38;5;241m0\u001b[39m:\n\u001b[1;32m----> 3\u001b[0m         member \u001b[38;5;241m=\u001b[39m  \u001b[43mrandom\u001b[49m\u001b[38;5;241m.\u001b[39mrandrange(\u001b[38;5;28mlen\u001b[39m(lista))\n\u001b[0;32m      4\u001b[0m         \u001b[38;5;28;01myield\u001b[39;00m lista[member]\n\u001b[0;32m      5\u001b[0m         lista\u001b[38;5;241m.\u001b[39mpop(member)\n",
      "\u001b[1;31mNameError\u001b[0m: name 'random' is not defined"
     ]
    }
   ],
   "source": [
    "def podajKolejnyElementLosowyZListy(lista):\n",
    "    while len(lista) > 0:\n",
    "        member =  random.randrange(len(lista))\n",
    "        yield lista[member]\n",
    "        lista.pop(member)\n",
    "\n",
    "krotkaLista = [18,44,55,79,99,66]\n",
    "GeneratorElementowLosowych = podajKolejnyElementLosowyZListy(krotkaLista)\n",
    "\n",
    "for i in GeneratorElementowLosowych:\n",
    "    print(i, end=\"  \")\n",
    "\n",
    "print(krotkaLista)\n",
    "# print(GeneratorElementowLosowych)"
   ]
  }
 ],
 "metadata": {
  "kernelspec": {
   "display_name": ".venv",
   "language": "python",
   "name": "python3"
  },
  "language_info": {
   "codemirror_mode": {
    "name": "ipython",
    "version": 3
   },
   "file_extension": ".py",
   "mimetype": "text/x-python",
   "name": "python",
   "nbconvert_exporter": "python",
   "pygments_lexer": "ipython3",
   "version": "3.13.0"
  }
 },
 "nbformat": 4,
 "nbformat_minor": 2
}
