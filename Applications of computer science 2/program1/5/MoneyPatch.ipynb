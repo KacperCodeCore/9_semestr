{
 "cells": [
  {
   "cell_type": "code",
   "execution_count": 2087,
   "metadata": {},
   "outputs": [
    {
     "name": "stdout",
     "output_type": "stream",
     "text": [
      "i: 8, r: 21.0  a: 37664849648181592\n",
      "i: 28, r: 22  a: 1712038620371890\n",
      "end game  chance:0 i:40\n",
      "startAccount:     7062159309034049143\n",
      "accountRemaining: 73\n",
      "accountRemaining%: 0.00000000000000103368 %\n",
      "accountTaken%:     100.00000000000000000000 %\n"
     ]
    }
   ],
   "source": [
    "# import random\n",
    "import secrets\n",
    "\n",
    "a\n",
    "x = 0.112\n",
    "n = 50\n",
    "chance = 3\n",
    "start_account\n",
    "account\n",
    "\n",
    "\n",
    "max_int64 = 2**63 - 1\n",
    "# start_account = random.randint(0, max_int64)\n",
    "start_account = secrets.randbelow(max_int64)\n",
    "# start_account = 633333\n",
    "accountRemaining = start_account\n",
    "a = round(start_account*x)\n",
    "\n",
    "\n",
    "for i in range(n):\n",
    "    if a < accountRemaining:\n",
    "        accountRemaining -= a\n",
    "    else:\n",
    "        chance -=1\n",
    "        if chance == 0:\n",
    "            break\n",
    "        elif chance == 1:\n",
    "            r = (50-i)\n",
    "            a = round(a/r)\n",
    "        elif chance == 2:\n",
    "            r = (50-i)/2\n",
    "            a = round(a/r)\n",
    "\n",
    "        print(f\"i: {i}, r: {r}  a: {a}\")\n",
    "        \n",
    "\n",
    "\n",
    "print(f\"end game  chance:{chance} i:{i}\")\n",
    "print(f\"startAccount:     {start_account}\")\n",
    "print(f\"accountRemaining: {accountRemaining}\")\n",
    "print(f\"accountRemaining%: {accountRemaining/start_account*100:.20f} %\")\n",
    "print(f\"accountTaken%:     {(start_account - accountRemaining)/start_account*100:.20f} %\")"
   ]
  }
 ],
 "metadata": {
  "kernelspec": {
   "display_name": ".venv",
   "language": "python",
   "name": "python3"
  },
  "language_info": {
   "codemirror_mode": {
    "name": "ipython",
    "version": 3
   },
   "file_extension": ".py",
   "mimetype": "text/x-python",
   "name": "python",
   "nbconvert_exporter": "python",
   "pygments_lexer": "ipython3",
   "version": "3.13.0"
  }
 },
 "nbformat": 4,
 "nbformat_minor": 2
}
