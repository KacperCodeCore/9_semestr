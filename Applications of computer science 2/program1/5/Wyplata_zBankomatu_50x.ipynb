{
 "cells": [
  {
   "cell_type": "code",
   "execution_count": 533,
   "metadata": {},
   "outputs": [
    {
     "name": "stdout",
     "output_type": "stream",
     "text": [
      "end game  chance:0 n:50\n",
      "counter: 4\n",
      "sum: 30.34\n",
      "startAccount: 21.5734\n",
      "account: 2.5734\n",
      "account%: 0.12 %\n"
     ]
    }
   ],
   "source": [
    "import random\n",
    "a = 10\n",
    "q = 0.9\n",
    "n = 50\n",
    "chance = 3\n",
    "\n",
    "startAccount = random.random() * 100\n",
    "account = startAccount\n",
    "\n",
    "counter = 0\n",
    "game_over = False\n",
    "sum = 0\n",
    "for i in range(n):\n",
    "    if game_over:\n",
    "        break\n",
    "    elif a < account:\n",
    "        # print(f\"account {account} - {a}\")\n",
    "        account -= a\n",
    "    else:\n",
    "        a = a * q**2\n",
    "        chance -=1\n",
    "        if chance == 0:\n",
    "            game_over = True\n",
    "            print(f\"end game  chance:{chance} n:{n}\")\n",
    "            break\n",
    "        \n",
    "\n",
    "    counter +=1\n",
    "    sum += a\n",
    "    a = a * q\n",
    "\n",
    "\n",
    "print(f\"counter: {counter}\")\n",
    "print(f\"sum: {sum:.2f}\")\n",
    "print(f\"startAccount: {startAccount:.4f}\")\n",
    "print(f\"account: {account:.4f}\")\n",
    "print(f\"account%: {account/startAccount:.2f} %\")"
   ]
  }
 ],
 "metadata": {
  "kernelspec": {
   "display_name": ".venv",
   "language": "python",
   "name": "python3"
  },
  "language_info": {
   "codemirror_mode": {
    "name": "ipython",
    "version": 3
   },
   "file_extension": ".py",
   "mimetype": "text/x-python",
   "name": "python",
   "nbconvert_exporter": "python",
   "pygments_lexer": "ipython3",
   "version": "3.13.0"
  }
 },
 "nbformat": 4,
 "nbformat_minor": 2
}
