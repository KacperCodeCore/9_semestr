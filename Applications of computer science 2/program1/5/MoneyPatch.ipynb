{
 "cells": [
  {
   "cell_type": "code",
   "execution_count": 221,
   "metadata": {},
   "outputs": [
    {
     "name": "stdout",
     "output_type": "stream",
     "text": [
      "Iloraz q wynosi: 1.205682\n",
      "suma: 99.99999999999838\n"
     ]
    },
    {
     "data": {
      "text/plain": [
       "'Ostatni wyraz a_n wynosi: 17.474119'"
      ]
     },
     "execution_count": 739,
     "metadata": {},
     "output_type": "execute_result"
    }
   ],
   "source": [
    "from scipy.optimize import fsolve\n",
    "\n",
    "# Dane wejściowe\n",
    "a1 = 0.5  # pierwszy wyraz ciągu\n",
    "S_n = 100  # suma ciągu\n",
    "n = 20     # liczba wyrazów ciągu\n",
    "\n",
    "# Równanie do znalezienia q\n",
    "def equation(q):\n",
    "    return a1 * (q**n - 1) / (q - 1) - S_n\n",
    "\n",
    "# Szukamy q (przybliżenie początkowe bliskie 1)\n",
    "def findQ(q_initial_guess):\n",
    "    return fsolve(equation, q_initial_guess)[0]\n",
    "\n",
    "q_solution = findQ(1.1)\n",
    "\n",
    "# Obliczamy ostatni wyraz a_n\n",
    "a_n = a1 * q_solution**(n - 1)\n",
    "\n",
    "# Wyświetlamy wyniki\n",
    "print(f\"Iloraz q wynosi: {q_solution:.6f}\")\n",
    "\n",
    "suma = 0\n",
    "for k in range(n):\n",
    "    suma += a1 * q_solution**k \n",
    "\n",
    "print(f\"suma: {suma}\")\n",
    "f\"Ostatni wyraz a_n wynosi: {a_n:.6f}\"\n"
   ]
  },
  {
   "cell_type": "code",
   "execution_count": 734,
   "metadata": {},
   "outputs": [
    {
     "name": "stdout",
     "output_type": "stream",
     "text": [
      "end game  chance:0 i:23\n",
      "startAccount: 547588385643814440\n",
      "account: 214367274532714440\n",
      "accountRest%: 39.147520318692855 %\n",
      "accountTaken%: 60.852479681307145 %\n"
     ]
    }
   ],
   "source": [
    "import random\n",
    "\n",
    "a = 100000\n",
    "q = 10\n",
    "n = 50\n",
    "chance = 3\n",
    "\n",
    "max_int64 = 2**63 - 1\n",
    "start_account = random.randint(0, max_int64)\n",
    "# start_account = round(max_int64 * 0.1)\n",
    "account = start_account\n",
    "\n",
    "\n",
    "for i in range(n):\n",
    "    if a < account:\n",
    "        account -= a\n",
    "    else:\n",
    "        a = round(a / (q**(2 * chance)))\n",
    "        chance -=1\n",
    "        if chance == 0:\n",
    "            break\n",
    "        \n",
    "    a = a * q\n",
    "\n",
    "\n",
    "print(f\"end game  chance:{chance} i:{i}\")\n",
    "print(f\"startAccount: {start_account}\")\n",
    "print(f\"account: {account}\")\n",
    "print(f\"accountRest%: {account/start_account*100} %\")\n",
    "print(f\"accountTaken%: {(start_account - account)/start_account*100} %\")"
   ]
  },
  {
   "cell_type": "code",
   "execution_count": 1670,
   "metadata": {},
   "outputs": [
    {
     "name": "stdout",
     "output_type": "stream",
     "text": [
      "8\n",
      "8 21.0 680131609310869\n",
      "47\n",
      "47 1.5 453421072873913\n",
      "end game  chance:0 i:49\n",
      "startAccount: 255049353491575733\n",
      "account: 226710536436926\n",
      "accountRemaining %: 0.08888888888887704065 %\n",
      "accountTaken%: 99.91111111111112563776 %\n"
     ]
    }
   ],
   "source": [
    "# import random\n",
    "import secrets\n",
    "\n",
    "a\n",
    "x = 0.112\n",
    "n = 50\n",
    "chance = 3\n",
    "start_account\n",
    "account\n",
    "\n",
    "\n",
    "max_int64 = 2**63 - 1\n",
    "# start_account = random.randint(0, max_int64)\n",
    "start_account = secrets.randbelow(max_int64)\n",
    "# start_account = 633333\n",
    "account = start_account\n",
    "a = round(start_account*x)\n",
    "\n",
    "\n",
    "for i in range(n):\n",
    "    if a < account:\n",
    "        account -= a\n",
    "    else:\n",
    "        chance -=1\n",
    "        if chance == 0:\n",
    "            break\n",
    "        elif chance == 1:\n",
    "            a = round(a/((50-i)/2))\n",
    "        elif chance == 2:\n",
    "            a = round(a/(50-i))\n",
    "\n",
    "        print(i)\n",
    "        print(i,((50-i)/2), a)\n",
    "        \n",
    "\n",
    "\n",
    "print(f\"end game  chance:{chance} i:{i}\")\n",
    "print(f\"startAccount: {start_account}\")\n",
    "print(f\"account: {account}\")\n",
    "print(f\"accountRemaining %: {account/start_account*100:.20f} %\")\n",
    "print(f\"accountTaken%: {(start_account - account)/start_account*100:.20f} %\")"
   ]
  }
 ],
 "metadata": {
  "kernelspec": {
   "display_name": ".venv",
   "language": "python",
   "name": "python3"
  },
  "language_info": {
   "codemirror_mode": {
    "name": "ipython",
    "version": 3
   },
   "file_extension": ".py",
   "mimetype": "text/x-python",
   "name": "python",
   "nbconvert_exporter": "python",
   "pygments_lexer": "ipython3",
   "version": "3.13.0"
  }
 },
 "nbformat": 4,
 "nbformat_minor": 2
}
