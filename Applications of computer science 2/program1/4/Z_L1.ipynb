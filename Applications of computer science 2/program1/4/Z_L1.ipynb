{
 "cells": [
  {
   "cell_type": "markdown",
   "metadata": {},
   "source": [
    " 1. Try to build a classifier for the MNIST dataset that achieves over 97%\n",
    " accuracy on the test set. Hint: the KNeighborsClassifier works quite\n",
    " well for this task; you just need to find good hyperparameter values (try\n",
    " a grid search on the weights and n_neighbors hyperparameters)"
   ]
  },
  {
   "cell_type": "code",
   "execution_count": 9,
   "metadata": {},
   "outputs": [
    {
     "name": "stdout",
     "output_type": "stream",
     "text": [
      "('Alice', 25, 'Engineer')\n",
      "('Bob', 30, 'Designer')\n",
      "('Charlie', 'N/A', 'Manager')\n"
     ]
    }
   ],
   "source": [
    "##### - zip_longest()\n",
    "from itertools import zip_longest\n",
    "\n",
    "def zipLongestExample():\n",
    "    # Sample data lists of unequal lengths\n",
    "    data1 = ['Alice', 'Bob', 'Charlie']\n",
    "    data2 = [25, 30]  # Shorter list\n",
    "    data3 = ['Engineer', 'Designer', 'Manager', 'Director']  # Longer list\n",
    "\n",
    "    # Using zip_longest to combine the lists\n",
    "    combined = zip_longest(data1, data2, data3, fillvalue='N/A')\n",
    "    return combined\n",
    "\n",
    "myList = zipLongestExample()\n",
    "def generator():\n",
    "    for item in myList:\n",
    "        yield item\n",
    "\n",
    "generatedItems = generator()\n",
    "print(next(generatedItems))\n",
    "print(next(generatedItems))\n",
    "print(next(generatedItems))\n",
    "# print(next(generatedItems))\n"
   ]
  },
  {
   "cell_type": "code",
   "execution_count": 3,
   "metadata": {},
   "outputs": [
    {
     "name": "stdout",
     "output_type": "stream",
     "text": [
      "Hello, World!\n",
      "Hello, World!\n",
      "Hello, World!\n",
      "Hello, World!\n",
      "Hello, World!\n",
      "[0, 0, 0, 0, 0, 0, 0, 0, 0, 0]\n"
     ]
    }
   ],
   "source": [
    "# ##### - repeat()\n",
    "from itertools import repeat\n",
    "\n",
    "def repeat_message(message, count):\n",
    "    for _ in repeat(message, count):\n",
    "        print(message)\n",
    "\n",
    "# Wywołanie funkcji, aby powtórzyć komunikat \"Hello, World!\" 5 razy\n",
    "repeat_message(\"Hello, World!\", 5)\n",
    "\n",
    "\n",
    "# Tworzenie listy o długości 10, wypełnionej wartością 0\n",
    "zeros = list(repeat(0, 10))\n",
    "print(zeros)"
   ]
  },
  {
   "cell_type": "code",
   "execution_count": 4,
   "metadata": {},
   "outputs": [
    {
     "name": "stdout",
     "output_type": "stream",
     "text": [
      "Miesiąc 1: Łączny dochód = 1\n",
      "Miesiąc 2: Łączny dochód = 23\n",
      "Miesiąc 3: Łączny dochód = 356\n",
      "Miesiąc 4: Łączny dochód = 3690\n",
      "Miesiąc 5: Łączny dochód = 23698\n"
     ]
    }
   ],
   "source": [
    "##### - accumulate()\n",
    "from itertools import accumulate\n",
    "\n",
    "def cumulative_sum():\n",
    "    monthly_revenue = [1, 22, 333, 3334, 20008]\n",
    "    \n",
    "    # Obliczanie narastających sum\n",
    "    cumulative_revenue = list(accumulate(monthly_revenue))\n",
    "\n",
    "    # Wyświetlenie narastających dochodów\n",
    "    for month, revenue in enumerate(cumulative_revenue, 1):\n",
    "        print(f\"Miesiąc {month}: Łączny dochód = {revenue}\")\n",
    "\n",
    "# Wywołanie funkcji\n",
    "cumulative_sum()"
   ]
  },
  {
   "cell_type": "code",
   "execution_count": 5,
   "metadata": {},
   "outputs": [
    {
     "name": "stdout",
     "output_type": "stream",
     "text": [
      "Wszystkie przedmioty: [['Apple', 'Banana'], ['Orange', 'Grapes', 'Mango'], ['Tomato', 'Cucumber'], 1, 2, 3, 4, 5, 6, 8, 9, 7]\n"
     ]
    }
   ],
   "source": [
    "##### - chain()\n",
    "from itertools import chain\n",
    "\n",
    "def flatten_orders():\n",
    "    orders = [\n",
    "        [\"Apple\", \"Banana\"],\n",
    "        [\"Orange\", \"Grapes\", \"Mango\"],\n",
    "        [\"Tomato\", \"Cucumber\"]\n",
    "    ]\n",
    "    list_data = [1, 2, 3]\n",
    "    tuple_data = (4, 5, 6)\n",
    "    set_data = {7, 8, 9}\n",
    "\n",
    "    # Połączenie wszystkich przedmiotów\n",
    "    all_items = list(chain(orders,list_data,tuple_data,set_data))\n",
    "\n",
    "    # Wyświetlenie listy przedmiotów\n",
    "    print(\"Wszystkie przedmioty:\", all_items)\n",
    "\n",
    "# Wywołanie funkcji\n",
    "flatten_orders()\n"
   ]
  },
  {
   "cell_type": "code",
   "execution_count": null,
   "metadata": {},
   "outputs": [],
   "source": [
    "from itertools import chain\n",
    "def flatten_orders():\n",
    "    orders = [\n",
    "        [\"Apple\", \"Banana\"],\n",
    "        [\"Orange\", \"Grapes\", \"Mango\"],\n",
    "        [\"Tomato\", \"Cucumber\"]\n",
    "    ]\n",
    "\n",
    "    # Połączenie wszystkich przedmiotów\n",
    "    all_items = list(chain.from_iterable(orders))\n",
    "\n",
    "    # Wyświetlenie listy przedmiotów\n",
    "    print(\"Wszystkie przedmioty:\", all_items)\n",
    "\n",
    "# Wywołanie funkcji\n",
    "flatten_orders()"
   ]
  },
  {
   "cell_type": "code",
   "execution_count": null,
   "metadata": {},
   "outputs": [],
   "source": [
    "##### - compress()\n",
    "from itertools import compress\n",
    "\n",
    "def filter_available_products():\n",
    "    products = [\"Laptop\", \"Phone\", \"Tablet\", \"Monitor\"]\n",
    "    availability = [True, False, True, False]  # Tylko Laptop i Tablet są dostępne\n",
    "\n",
    "    available_products = list(compress(products, availability))\n",
    "\n",
    "    print(\"Dostępne produkty:\", available_products)\n",
    "\n",
    "filter_available_products()\n",
    "# Dostępne produkty: ['Laptop', 'Tablet']"
   ]
  },
  {
   "cell_type": "code",
   "execution_count": null,
   "metadata": {},
   "outputs": [],
   "source": [
    "##### - dropwhile()\n",
    "from itertools import dropwhile\n",
    "\n",
    "def filter_temperatures():\n",
    "    temperatures = [30, 40, 50, 45, 39, 32, 34, 35, 24, 19, 12, 18, 23, 29, 28, 25, 23]\n",
    "\n",
    "    # Change the predicate to drop temperatures while they are greater than or equal to 32\n",
    "    predicable = lambda x: x > 20\n",
    "    lower_temperatures = list(dropwhile(predicable, temperatures))\n",
    "\n",
    "    # Display the lower temperatures\n",
    "    print(lower_temperatures)#????????!!!\n",
    "\n",
    "# Call the function\n",
    "filter_temperatures()"
   ]
  },
  {
   "cell_type": "code",
   "execution_count": null,
   "metadata": {},
   "outputs": [],
   "source": [
    "from itertools import dropwhile\n",
    "\n",
    "numbers = [1, 2, 3, 4, 5, 6]\n",
    "predicate = lambda x: x < 4\n",
    "result = list(dropwhile(predicate, numbers))\n",
    "print(result)  # Output: [4, 5, 6]"
   ]
  },
  {
   "cell_type": "code",
   "execution_count": null,
   "metadata": {},
   "outputs": [],
   "source": [
    "##### - starmap()\n",
    "from itertools import starmap\n",
    "\n",
    "# Define a function that takes two arguments\n",
    "def add(x, y):\n",
    "    return x + y\n",
    "\n",
    "# An iterable of tuples\n",
    "numbers = [(1, 2), (3, 4), (5, 6)]\n",
    "\n",
    "# Using starmap to apply the add function to each tuple\n",
    "result = list(starmap(add, numbers))\n",
    "\n",
    "print(result)  # Output: [3, 7, 11]"
   ]
  },
  {
   "cell_type": "code",
   "execution_count": null,
   "metadata": {},
   "outputs": [],
   "source": [
    "##### - takewhile()\n",
    "from itertools import takewhile\n",
    "\n",
    "# Sample list of numbers\n",
    "numbers = [1, 2, 3, 4, 5, 6, 7, 8]\n",
    "\n",
    "# Predicate function to take elements while they are less than 30\n",
    "predicate = lambda x: x < 6\n",
    "\n",
    "# Using takewhile\n",
    "result = list(takewhile(predicate, numbers))\n",
    "\n",
    "print(result)  # Output: [1, 2, 3, 4, 5]"
   ]
  },
  {
   "cell_type": "code",
   "execution_count": null,
   "metadata": {},
   "outputs": [],
   "source": [
    "##### - product()\n",
    "from itertools import product\n",
    "\n",
    "# Sample attributes for a product\n",
    "colors = ['red', 'blue']\n",
    "sizes = ['S', 'M', 'L']\n",
    "types = ['t-shirt', 'hoodie']\n",
    "\n",
    "# Compute the Cartesian product of the attributes\n",
    "product_combinations = list(product(colors, sizes, types))\n",
    "\n",
    "# Display the results\n",
    "for combination in product_combinations:\n",
    "    print(combination)"
   ]
  }
 ],
 "metadata": {
  "kernelspec": {
   "display_name": ".venv",
   "language": "python",
   "name": "python3"
  },
  "language_info": {
   "codemirror_mode": {
    "name": "ipython",
    "version": 3
   },
   "file_extension": ".py",
   "mimetype": "text/x-python",
   "name": "python",
   "nbconvert_exporter": "python",
   "pygments_lexer": "ipython3",
   "version": "3.13.0"
  }
 },
 "nbformat": 4,
 "nbformat_minor": 2
}
